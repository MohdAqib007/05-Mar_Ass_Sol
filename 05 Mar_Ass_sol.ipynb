{
 "cells": [
  {
   "cell_type": "code",
   "execution_count": null,
   "id": "4f71d8ae-6e24-4eae-9d1a-811b8cbaef59",
   "metadata": {},
   "outputs": [],
   "source": [
    "#Q1. How can you create a Bokeh plot using Python code?\n",
    "#Ans\n",
    "'''To create a Bokeh plot using Python code, you can follow these general steps:\n",
    "Import the necessary modules: You'll need to import the bokeh.plotting module, which provides the interface for creating Bokeh plots.\n",
    "Create the data: You'll need to create a data source, which is a dictionary-like object that contains the data that you want to plot.\n",
    "Configure the plot: You can configure various aspects of the plot, such as the title, the axis labels, and the size.\n",
    "Add glyphs: You can add glyphs (visual marks) to the plot, such as circles, lines, or bars, to represent your data.\n",
    "Show the plot: You'll need to call the show() function to display the plot in your web browser.'''\n"
   ]
  },
  {
   "cell_type": "code",
   "execution_count": null,
   "id": "48339f8e-8d98-4a98-bb7f-9b500c0ddd1b",
   "metadata": {},
   "outputs": [],
   "source": [
    "#Q2. What are glyphs in Bokeh, and how can you add them to a Bokeh plot? Explain with an example.\n",
    "#Ans\n",
    "'''Glyphs are the basic visual elements used in Bokeh plots. They represent the data being plotted and can be points, lines, bars, or other geometric shapes. \n",
    "You can customize their properties such as size, color, transparency, and shape.\n",
    "To add glyphs to a Bokeh plot, you need to create a figure object using the bokeh.plotting.figure() function, and then call one of the glyph methods provided by the figure object.\n",
    "\n",
    "Here's an example of adding glyphs to a Bokeh plot using the circle() method:'''\n",
    "\n",
    "from bokeh.plotting import figure, output_file, show\n",
    "\n",
    "# create data\n",
    "x = [1, 2, 3, 4, 5]\n",
    "y = [6, 7, 2, 4, 5]\n",
    "\n",
    "# create a figure object\n",
    "p = figure(title=\"Circle Glyph Example\", x_axis_label='x', y_axis_label='y', plot_width=400, plot_height=400)\n",
    "\n",
    "# add a circle glyph to the figure\n",
    "p.circle(x, y, size=10, color='navy', alpha=0.5)\n",
    "\n",
    "# specify the output file and show the plot\n",
    "output_file(\"circle_glyph_example.html\")\n",
    "show(p)\n",
    "\n",
    "\n",
    "'''In this example, the circle() method is called on the figure object \"p\", which adds circle glyphs to the plot at the coordinates given by the \"x\" and \"y\" lists. \n",
    "The \"size\" argument specifies the size of the circles, and the \"color\" and \"alpha\" arguments set the color and transparency of the glyphs, respectively.\n",
    "There are other glyph methods available in Bokeh, such as line(), patch(), rect(), and text(), which can be used to add different types of glyphs to a plot.'''"
   ]
  },
  {
   "cell_type": "code",
   "execution_count": null,
   "id": "e2c2048d-ad9c-4b28-830c-99e2b04af83e",
   "metadata": {},
   "outputs": [],
   "source": [
    "#Q3. How can you customize the appearance of a Bokeh plot, including the axes, title, and legend?\n",
    "#Ans-\n",
    "#You can customize the appearance of a Bokeh plot in many ways, including the axes, title, and legend. Here are some ways to do this:\n",
    "\n",
    "#Title: You can set the title of the plot using the title property of the figure object. For example:\n",
    "p = figure(title=\"My Bokeh Plot\")\n",
    "\n",
    "#Axis labels: You can set the labels for the x and y axes using the x_axis_label and y_axis_label properties of the figure object. For example:\n",
    "p = figure(x_axis_label=\"X-axis\", y_axis_label=\"Y-axis\")\n",
    "\n",
    "#Axis range: You can set the range of the x and y axes using the x_range and y_range properties of the figure object. For example:\n",
    "p = figure(x_range=(0, 10), y_range=(0, 100))\n",
    "\n",
    "#Tick labels and tick formatting: You can set the tick labels and formatting of the x and y axes using the x_axis_label_options and y_axis_label_options properties of the figure object. For example:\n",
    "p = figure(x_axis_label_options=dict(format=\"%d\", font_size=\"10pt\"))\n",
    "\n",
    "#Legend: You can add a legend to the plot by setting the legend_label property of each glyph method call, and then calling the legend() method of the figure object. For example:\n",
    "p.circle(x, y, legend_label=\"My Data\")\n",
    "p.legend.location = \"top_left\"\n"
   ]
  },
  {
   "cell_type": "code",
   "execution_count": null,
   "id": "64b8de57-c58e-4082-8c8b-5575771ab4ec",
   "metadata": {},
   "outputs": [],
   "source": [
    "#Q4. What is a Bokeh server, and how can you use it to create interactive plots that can be updated in real time?\n",
    "#ans-\n",
    "\n",
    "'''A Bokeh server is a Python process that allows you to create and serve interactive Bokeh plots in a web browser. \n",
    "The Bokeh server works by creating a websocket connection between the server and the client browser, which allows for real-time updating of the plot based on user interaction or changes to the underlying data.\n",
    "To use the Bokeh server to create interactive plots that can be updated in real time, you need to follow these steps:\n",
    "1. Import the necessary modules: You will need to import the bokeh.plotting, bokeh.models, and bokeh.server modules.\n",
    "2. Create a Bokeh figure object: Use the bokeh.plotting.figure() function to create a figure object, and add glyphs to the plot as usual.\n",
    "3. Create a data source: Use the bokeh.models.ColumnDataSource class to create a data source that can be updated dynamically.\n",
    "4. Define a callback function: Define a callback function that will update the data source whenever a user interacts with the plot.\n",
    "5. Create a Bokeh app: Use the bokeh.server.application() function to create a Bokeh app that will serve the plot to a web browser.\n",
    "6. Run the Bokeh app: Use the bokeh.server.start() function to run the Bokeh app on a local server.'''"
   ]
  },
  {
   "cell_type": "code",
   "execution_count": null,
   "id": "bf884c7f-9512-4c02-af4c-2eb44ceddf05",
   "metadata": {},
   "outputs": [],
   "source": [
    "#Q5. How can you embed a Bokeh plot into a web page or dashboard using Flask or Django?"
   ]
  }
 ],
 "metadata": {
  "kernelspec": {
   "display_name": "Python 3 (ipykernel)",
   "language": "python",
   "name": "python3"
  },
  "language_info": {
   "codemirror_mode": {
    "name": "ipython",
    "version": 3
   },
   "file_extension": ".py",
   "mimetype": "text/x-python",
   "name": "python",
   "nbconvert_exporter": "python",
   "pygments_lexer": "ipython3",
   "version": "3.10.8"
  }
 },
 "nbformat": 4,
 "nbformat_minor": 5
}
